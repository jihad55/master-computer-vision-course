{
 "cells": [
  {
   "cell_type": "code",
   "execution_count": 1,
   "metadata": {},
   "outputs": [],
   "source": [
    "import cv2\n",
    "import numpy as np\n",
    "from matplotlib import pyplot as plt\n",
    "%matplotlib inline"
   ]
  },
  {
   "cell_type": "code",
   "execution_count": 2,
   "metadata": {},
   "outputs": [],
   "source": [
    "input=cv2.imread('C://Users//jihad//Downloads//cat2.jpg')\n",
    "cv2.imshow('Hello world', input)\n",
    "cv2.waitKey()\n",
    "cv2.destroyAllWindows()"
   ]
  },
  {
   "cell_type": "code",
   "execution_count": 4,
   "metadata": {},
   "outputs": [
    {
     "name": "stdout",
     "output_type": "stream",
     "text": [
      "(186, 271, 3)\n"
     ]
    }
   ],
   "source": [
    "print (input.shape)"
   ]
  },
  {
   "cell_type": "code",
   "execution_count": 11,
   "metadata": {},
   "outputs": [
    {
     "name": "stdout",
     "output_type": "stream",
     "text": [
      "Height of image:  186 pixels\n",
      "Width of image:  271 pixels\n"
     ]
    }
   ],
   "source": [
    "print('Height of image: ', int(input.shape[0]),'pixels')\n",
    "print('Width of image: ', int(input.shape[1]),'pixels')"
   ]
  },
  {
   "cell_type": "code",
   "execution_count": 9,
   "metadata": {},
   "outputs": [
    {
     "data": {
      "text/plain": [
       "True"
      ]
     },
     "execution_count": 9,
     "metadata": {},
     "output_type": "execute_result"
    }
   ],
   "source": [
    "cv2.imwrite('output.jpg', input)"
   ]
  },
  {
   "cell_type": "code",
   "execution_count": null,
   "metadata": {},
   "outputs": [],
   "source": [
    "import cv2\n",
    "import numpy as np\n",
    "\n",
    "\n",
    "input=cv2.imread('C://Users//jihad//Downloads//cat2.jpg')\n",
    "cv2.imshow('original', input)\n",
    "cv2.waitKey()\n",
    "\n",
    "gray_image= cv2.cvtColor(image, cv2.COLOR_BGR2GRAY)\n",
    "cv2.imshow('grayscale', gray_image)\n",
    "cv2.waitKey()\n",
    "cv2.destroyAllWindows()"
   ]
  },
  {
   "cell_type": "code",
   "execution_count": 3,
   "metadata": {},
   "outputs": [],
   "source": [
    "import cv2\n",
    "img = cv2.imread('C://Users//jihad//Downloads//cat2.jpg', 0)\n",
    "cv2.imshow('grayscale', img)\n",
    "cv2.waitKey()\n",
    "cv2.destroyAllWindows()"
   ]
  },
  {
   "cell_type": "code",
   "execution_count": 10,
   "metadata": {},
   "outputs": [
    {
     "name": "stdout",
     "output_type": "stream",
     "text": [
      "115 174 160\n",
      "(186, 271, 3)\n"
     ]
    }
   ],
   "source": [
    "image=cv2.imread('C://Users//jihad//Downloads//cat2.jpg')\n",
    "B,G,R = image[10,50]\n",
    "print(B,G,R)\n",
    "print (image.shape)"
   ]
  },
  {
   "cell_type": "code",
   "execution_count": 12,
   "metadata": {},
   "outputs": [
    {
     "name": "stdout",
     "output_type": "stream",
     "text": [
      "(186, 271)\n",
      "163\n"
     ]
    }
   ],
   "source": [
    "import cv2\n",
    "gray_image= cv2.cvtColor(image, cv2.COLOR_BGR2GRAY)\n",
    "print(gray_image.shape)\n",
    "print(gray_image[10,50])"
   ]
  },
  {
   "cell_type": "code",
   "execution_count": 13,
   "metadata": {},
   "outputs": [],
   "source": [
    "image=cv2.imread('C://Users//jihad//Downloads//cat2.jpg')\n",
    "HSV_image= cv2.cvtColor(image, cv2.COLOR_BGR2HSV)\n",
    "\n",
    "cv2.imshow('HSV image', HSV_image)\n",
    "cv2.imshow('H channel', HSV_image[:,:,0])\n",
    "cv2.imshow('S channel', HSV_image[:,:,1])\n",
    "cv2.imshow('V channel', HSV_image[:,:,2])\n",
    "\n",
    "cv2.waitKey()\n",
    "cv2.destroyAllWindows()"
   ]
  },
  {
   "cell_type": "code",
   "execution_count": 19,
   "metadata": {},
   "outputs": [],
   "source": [
    "import cv2\n",
    "import numpy as np\n",
    "\n",
    "\n",
    "B,G,R = cv2.split(image)\n",
    "\n",
    "zeros=np.zeros(image.shape[:2],dtype='uint8')\n",
    "cv2.imshow('red image', cv2.merge([zeros,zeros,R]))\n",
    "cv2.imshow('green image', cv2.merge([zeros,G,zeros]))\n",
    "cv2.imshow('blue image', cv2.merge([B,zeros,zeros]))\n",
    "\n",
    "cv2.waitKey(0)\n",
    "cv2.destroyAllWindows()"
   ]
  },
  {
   "cell_type": "code",
   "execution_count": 23,
   "metadata": {},
   "outputs": [
    {
     "data": {
      "image/png": "[encoded data removed]",
      "text/plain": [
       "<Figure size 432x288 with 1 Axes>"
      ]
     },
     "metadata": {
      "needs_background": "light"
     },
     "output_type": "display_data"
    },
    {
     "data": {
      "image/png": "[encoded data removed]",
      "text/plain": [
       "<Figure size 432x288 with 1 Axes>"
      ]
     },
     "metadata": {
      "needs_background": "light"
     },
     "output_type": "display_data"
    }
   ],
   "source": [
    "from matplotlib import pyplot as plt\n",
    "%matplotlib inline\n",
    "hist = cv2.calcHist([image],[0],None,[256],[0,256])\n",
    "plt.hist(image.ravel(),256,[0,256]);plt.show()\n",
    "color=('b','g','r')\n",
    "\n",
    "for i, col in enumerate(color):\n",
    "    hist2 = cv2.calcHist([image],[i],None,[256],[0,256])\n",
    "    plt.plot(hist2, color=col)\n",
    "    plt.xlim([0,256])\n",
    "    \n",
    "plt.show()"
   ]
  },
  {
   "cell_type": "code",
   "execution_count": 24,
   "metadata": {},
   "outputs": [],
   "source": [
    "image= np.zeros((512,512,3) , np.uint8)\n",
    "image_bw= np.zeros((512,512), np.uint8)\n",
    "cv2.imshow('black', image)\n",
    "cv2.imshow('bw', image_bw)\n",
    "\n",
    "cv2.waitKey(0)\n",
    "cv2.destroyAllWindows()"
   ]
  },
  {
   "cell_type": "code",
   "execution_count": 25,
   "metadata": {},
   "outputs": [],
   "source": [
    "image= np.zeros((512,512,3) , np.uint8)\n",
    "cv2.line(image, (0,0), (511,511), (256,127,0), 5)\n",
    "cv2.imshow('blue line', image)\n",
    "cv2.waitKey(0)\n",
    "cv2.destroyAllWindows()"
   ]
  },
  {
   "cell_type": "code",
   "execution_count": 27,
   "metadata": {},
   "outputs": [],
   "source": [
    "image= np.zeros((512,512,3) , np.uint8)\n",
    "cv2.rectangle(image, (100,100), (300,250), (127,50,127), -1)\n",
    "cv2.imshow('rectangle', image)\n",
    "cv2.waitKey(0)\n",
    "cv2.destroyAllWindows()"
   ]
  },
  {
   "cell_type": "code",
   "execution_count": 2,
   "metadata": {},
   "outputs": [],
   "source": [
    "image= np.zeros((512,512,3) , np.uint8)\n",
    "cv2.circle(image, (350,350), 100, (15,75,50), -1)\n",
    "cv2.imshow('circle', image)\n",
    "cv2.waitKey(0)\n",
    "cv2.destroyAllWindows()"
   ]
  },
  {
   "cell_type": "code",
   "execution_count": 2,
   "metadata": {},
   "outputs": [],
   "source": [
    "image= np.zeros((512,512,3) , np.uint8)\n",
    "pts= np.array([[10,50], [400,50], [90,200],[50,500]], np.int32)\n",
    "pts= pts.reshape((-1,1,2))\n",
    "\n",
    "cv2.polylines(image, [pts], True, (0,0,255),3)\n",
    "cv2.imshow('polygon', image)\n",
    "cv2.waitKey(0)\n",
    "cv2.destroyAllWindows()"
   ]
  },
  {
   "cell_type": "code",
   "execution_count": 3,
   "metadata": {},
   "outputs": [],
   "source": [
    "image= np.zeros((512,512,3) , np.uint8)\n",
    "\n",
    "cv2.putText(image, 'hello', (75,290), cv2.FONT_HERSHEY_COMPLEX, 2,(100,170,0),3)\n",
    "cv2.imshow('text', image)\n",
    "cv2.waitKey(0)\n",
    "cv2.destroyAllWindows()"
   ]
  },
  {
   "cell_type": "code",
   "execution_count": null,
   "metadata": {},
   "outputs": [],
   "source": []
  }
 ],
 "metadata": {
  "kernelspec": {
   "display_name": "Python 3",
   "language": "python",
   "name": "python3"
  },
  "language_info": {
   "codemirror_mode": {
    "name": "ipython",
    "version": 3
   },
   "file_extension": ".py",
   "mimetype": "text/x-python",
   "name": "python",
   "nbconvert_exporter": "python",
   "pygments_lexer": "ipython3",
   "version": "3.7.4"
  }
 },
 "nbformat": 4,
 "nbformat_minor": 2
}
