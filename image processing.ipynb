{
 "cells": [
  {
   "cell_type": "code",
   "execution_count": 4,
   "metadata": {},
   "outputs": [],
   "source": [
    "import cv2\n",
    "import numpy as np\n",
    "import matplotlib.pyplot as plt"
   ]
  },
  {
   "cell_type": "code",
   "execution_count": 4,
   "metadata": {},
   "outputs": [],
   "source": [
    "image=cv2.imread('C://Users//jihad//Downloads//cat2.jpg')\n",
    "height, width = image.shape[:2]\n",
    "quarter_height,quarter_width= height/4, width/4\n",
    "\n",
    "T= np.float32([[1,0, quarter_width], [0,1,quarter_height]])\n",
    "\n",
    "img_translation= cv2.warpAffine(image, T, (width, height))\n",
    "\n",
    "cv2.imshow('translation', img_translation)\n",
    "cv2.waitKey()\n",
    "cv2.destroyAllWindows()"
   ]
  },
  {
   "cell_type": "code",
   "execution_count": 5,
   "metadata": {},
   "outputs": [
    {
     "name": "stdout",
     "output_type": "stream",
     "text": [
      "[[ 1.    0.   67.75]\n",
      " [ 0.    1.   46.5 ]]\n"
     ]
    }
   ],
   "source": [
    "print(T)"
   ]
  },
  {
   "cell_type": "code",
   "execution_count": null,
   "metadata": {},
   "outputs": [],
   "source": [
    "image=cv2.imread('C://Users//jihad//Downloads//cat2.jpg')\n",
    "height, width = image.shape[:2]\n",
    "\n",
    "rotation_matrix=cv2.getRotationMatrix2D((width/2, height/2),45,1)\n",
    "\n",
    "rotation_img= cv2.warpAffine(image, rotation_matrix, (width, height))\n",
    "\n",
    "cv2.imshow('rotation', rotation_matrix)\n",
    "cv2.waitKey()\n",
    "cv2.destroyAllWindows()"
   ]
  },
  {
   "cell_type": "code",
   "execution_count": 3,
   "metadata": {},
   "outputs": [],
   "source": [
    "image=cv2.imread('C://Users//jihad//Downloads//cat2.jpg')\n",
    "image_scaled= cv2.resize(image, None, fx=0.75, fy=0.75)\n",
    "cv2.imshow('scaling- linear', image_scaled)\n",
    "cv2.waitKey()\n",
    "\n",
    "image_scaled= cv2.resize(image, None, fx=2, fy=2)\n",
    "cv2.imshow('scaling- cubic', image_scaled)\n",
    "cv2.waitKey()\n",
    "\n",
    "image_scaled= cv2.resize(image, (900,400), interpolation= cv2.INTER_AREA)\n",
    "cv2.imshow('scaling- skewed', image_scaled)\n",
    "cv2.waitKey()\n",
    "\n",
    "cv2.destroyAllWindows()"
   ]
  },
  {
   "cell_type": "code",
   "execution_count": 4,
   "metadata": {},
   "outputs": [],
   "source": [
    "image=cv2.imread('C://Users//jihad//Downloads//cat2.jpg')\n",
    "smaller = cv2.pyrDown(image)\n",
    "larger = cv2.pyrUp(smaller)\n",
    "\n",
    "cv2.imshow('original', image)\n",
    "cv2.imshow('smaller', smaller)\n",
    "cv2.imshow('larger', larger)\n",
    "\n",
    "\n",
    "cv2.waitKey(0)\n",
    "cv2.destroyAllWindows()"
   ]
  },
  {
   "cell_type": "code",
   "execution_count": 7,
   "metadata": {},
   "outputs": [],
   "source": [
    "image=cv2.imread('C://Users//jihad//Downloads//cat2.jpg')\n",
    "height, width = image.shape[:2]\n",
    "\n",
    "start_row, start_col= int(height *0.25), int(width*0.25)\n",
    "end_row, end_col= int(height *0.75), int(width*0.75)\n",
    "\n",
    "cropped= image[start_row:end_row, start_col: end_row]\n",
    "\n",
    "cv2.imshow('original', image)\n",
    "cv2.waitKey(0)\n",
    "cv2.imshow('cropped', cropped)\n",
    "\n",
    "cv2.waitKey(0)\n",
    "cv2.destroyAllWindows()"
   ]
  },
  {
   "cell_type": "code",
   "execution_count": 10,
   "metadata": {},
   "outputs": [],
   "source": [
    "image=cv2.imread('C://Users//jihad//Downloads//cat2.jpg')\n",
    "M= np.ones(image.shape, dtype='uint8')* 75\n",
    "added= cv2.add(image, M)\n",
    "cv2.imshow('added', added)\n",
    "\n",
    "sub= cv2.subtract(image, M)\n",
    "cv2.imshow('sub', sub)\n",
    "\n",
    "cv2.waitKey(0)\n",
    "cv2.destroyAllWindows()"
   ]
  },
  {
   "cell_type": "code",
   "execution_count": 4,
   "metadata": {},
   "outputs": [],
   "source": [
    "square=np.zeros((300,300), np.uint8)\n",
    "cv2.rectangle(square,(50,50),(250,250),255,-2)\n",
    "cv2.imshow('square', square)\n",
    "cv2.waitKey(0)\n",
    "\n",
    "ellipse=np.zeros((300,300), np.uint8)\n",
    "cv2.ellipse(ellipse,(150,150),(150,150),30,0,180,255,-1)\n",
    "cv2.imshow('ellipse', ellipse)\n",
    "cv2.waitKey(0)\n",
    "\n",
    "cv2.destroyAllWindows()\n"
   ]
  },
  {
   "cell_type": "code",
   "execution_count": 5,
   "metadata": {},
   "outputs": [],
   "source": [
    "And= cv2.bitwise_and(square, ellipse)\n",
    "cv2.imshow('and',And)\n",
    "cv2.waitKey(0)\n",
    "\n",
    "OR = cv2.bitwise_or(square, ellipse)\n",
    "cv2.imshow('or',OR)\n",
    "cv2.waitKey(0)\n",
    "\n",
    "XOR= cv2.bitwise_xor(square, ellipse)\n",
    "cv2.imshow('xor',XOR)\n",
    "cv2.waitKey(0)\n",
    "\n",
    "NOT= cv2.bitwise_not(square)\n",
    "cv2.imshow('not',NOT)\n",
    "cv2.waitKey(0)\n",
    "\n",
    "cv2.destroyAllWindows()"
   ]
  },
  {
   "cell_type": "code",
   "execution_count": 6,
   "metadata": {},
   "outputs": [],
   "source": [
    "image=cv2.imread('C://Users//jihad//Downloads//cat2.jpg')\n",
    "blur= cv2.blur(image,(3,3))\n",
    "cv2.imshow('blur',blur)\n",
    "cv2.waitKey(0)\n",
    "\n",
    "gussion= cv2.GaussianBlur(image,(7,7),0)\n",
    "cv2.imshow('gussion',gussion)\n",
    "cv2.waitKey(0)\n",
    "\n",
    "cv2.destroyAllWindows()"
   ]
  },
  {
   "cell_type": "code",
   "execution_count": 7,
   "metadata": {},
   "outputs": [],
   "source": [
    "image=cv2.imread('C://Users//jihad//Downloads//cat2.jpg')\n",
    "dest= cv2.fastNlMeansDenoisingColored(image, None,6,6,7,21)\n",
    "cv2.imshow('denoising',dest)\n",
    "\n",
    "cv2.waitKey(0)\n",
    "\n",
    "cv2.destroyAllWindows()"
   ]
  },
  {
   "cell_type": "code",
   "execution_count": 5,
   "metadata": {},
   "outputs": [],
   "source": [
    "image=cv2.imread('C://Users//jihad//Downloads//cat2.jpg')\n",
    "cv2.imshow('original',image)\n",
    "\n",
    "kernal_sharpping= np.array([[-1,-1,-1],\n",
    "                           [-1,9,-1],\n",
    "                           [-1,-1,-1]])\n",
    "sharppened= cv2.filter2D(image, -1, kernal_sharpping)\n",
    "cv2.imshow('sharppened',sharppened)\n",
    "cv2.waitKey(0)\n",
    "cv2.destroyAllWindows()"
   ]
  },
  {
   "cell_type": "code",
   "execution_count": 6,
   "metadata": {},
   "outputs": [],
   "source": [
    "image=cv2.imread('C://Users//jihad//Downloads//cat2.jpg',0)\n",
    "cv2.imshow('original',image)\n",
    "\n",
    "ret,thresh1=cv2.threshold(image,127,255,cv2.THRESH_BINARY)\n",
    "cv2.imshow('thresh1',thresh1)\n",
    "\n",
    "ret,thresh2=cv2.threshold(image,127,255,cv2.THRESH_BINARY_INV)\n",
    "cv2.imshow('thresh2',thresh2)\n",
    "\n",
    "ret,thresh3=cv2.threshold(image,127,255,cv2.THRESH_TRUNC)\n",
    "cv2.imshow('thresh3',thresh3)\n",
    "\n",
    "ret,thresh4=cv2.threshold(image,127,255,cv2.THRESH_TOZERO)\n",
    "cv2.imshow('thresh4',thresh4)\n",
    "\n",
    "ret,thresh5=cv2.threshold(image,127,255,cv2.THRESH_TOZERO_INV)\n",
    "cv2.imshow('thresh5',thresh5)\n",
    "\n",
    "cv2.waitKey(0)\n",
    "cv2.destroyAllWindows()"
   ]
  },
  {
   "cell_type": "code",
   "execution_count": 8,
   "metadata": {},
   "outputs": [],
   "source": [
    "image=cv2.imread('C://Users//jihad//Downloads//cat2.jpg',0)\n",
    "cv2.imshow('original',image)\n",
    "\n",
    "ret,thresh1=cv2.threshold(image,127,255,cv2.THRESH_BINARY)\n",
    "cv2.imshow('thresh1',thresh1)\n",
    "cv2.waitKey(0)\n",
    "\n",
    "image=cv2.GaussianBlur(image,(3,3),0)\n",
    "thresh=cv2.adaptiveThreshold(image,255,cv2.ADAPTIVE_THRESH_MEAN_C,\n",
    "                            cv2.THRESH_BINARY,3,5)\n",
    "cv2.imshow('thresh',thresh)\n",
    "cv2.waitKey(0)\n",
    "\n",
    "_,th2= cv2.threshold(image,0,255,cv2.THRESH_BINARY+cv2.THRESH_OTSU)\n",
    "cv2.imshow('otsu',thresh)\n",
    "cv2.waitKey(0)\n",
    "\n",
    "blur=cv2.GaussianBlur(image,(5,5),0)\n",
    "_,th3= cv2.threshold(blur,0,255,cv2.THRESH_BINARY+cv2.THRESH_OTSU)\n",
    "cv2.imshow('blur',thresh)\n",
    "cv2.waitKey(0)\n",
    "\n",
    "cv2.destroyAllWindows()"
   ]
  },
  {
   "cell_type": "code",
   "execution_count": 3,
   "metadata": {},
   "outputs": [],
   "source": [
    "image=cv2.imread('C://Users//jihad//Downloads//cat2.jpg',0)\n",
    "cv2.imshow('original',image)\n",
    "cv2.waitKey(0)\n",
    "\n",
    "kernal= np.ones((5,5), np.uint8)\n",
    "\n",
    "errosion= cv2.erode(image, kernal, iterations=1)\n",
    "cv2.imshow('errosion',errosion)\n",
    "cv2.waitKey(0)\n",
    "\n",
    "dilation= cv2.dilate(image, kernal, iterations=1)\n",
    "cv2.imshow('dilation',dilation)\n",
    "cv2.waitKey(0)\n",
    "\n",
    "opening= cv2.morphologyEx(image, cv2.MORPH_OPEN, kernal)\n",
    "cv2.imshow('opening',opening)\n",
    "cv2.waitKey(0)\n",
    "\n",
    "closing= cv2.morphologyEx(image, cv2.MORPH_CLOSE, kernal)\n",
    "cv2.imshow('closing',closing)\n",
    "cv2.waitKey(0)\n",
    "\n",
    "cv2.destroyAllWindows()"
   ]
  },
  {
   "cell_type": "code",
   "execution_count": 3,
   "metadata": {},
   "outputs": [],
   "source": [
    "image=cv2.imread('C://Users//jihad//Downloads//cat2.jpg',0)\n",
    "height,width=image.shape\n",
    "sobel_x= cv2.Sobel(image, cv2.CV_64F,0,1, ksize=5)\n",
    "sobel_y= cv2.Sobel(image, cv2.CV_64F,1,0, ksize=5)\n",
    "\n",
    "cv2.imshow('original',image)\n",
    "cv2.waitKey(0)\n",
    "\n",
    "cv2.imshow('sobel_x',sobel_x)\n",
    "cv2.waitKey(0)\n",
    "\n",
    "cv2.imshow('sobel_y',sobel_y)\n",
    "cv2.waitKey(0)\n",
    "\n",
    "sobel_or= cv2.bitwise_or(sobel_x, sobel_y)\n",
    "cv2.imshow('sobel_or',sobel_or)\n",
    "cv2.waitKey(0)\n",
    "\n",
    "laplician= cv2.Laplacian(image, cv2.CV_64F)\n",
    "cv2.imshow('laplician',laplician)\n",
    "cv2.waitKey(0)\n",
    "\n",
    "canny= cv2.Canny(image, 50,120)\n",
    "cv2.imshow('canny',canny)\n",
    "cv2.waitKey(0)\n",
    "cv2.destroyAllWindows()"
   ]
  },
  {
   "cell_type": "code",
   "execution_count": 6,
   "metadata": {},
   "outputs": [],
   "source": [
    "image=cv2.imread('C://Users//jihad//Downloads//cat2.jpg',0)\n",
    "cv2.imshow('original',image)\n",
    "cv2.waitKey(0)\n",
    "\n",
    "points_A= np.float32([[320,15],[700,215],[75,610],[530,780]])\n",
    "points_B= np.float32([[0,0],[420,0],[0,594],[420,594]])\n",
    "\n",
    "M=cv2.getPerspectiveTransform(points_A, points_B)\n",
    "\n",
    "warped= cv2.warpPerspective(image,M,(420,594))\n",
    "cv2.imshow('warped',warped)\n",
    "cv2.waitKey(0)\n",
    "cv2.destroyAllWindows()"
   ]
  },
  {
   "cell_type": "code",
   "execution_count": 11,
   "metadata": {},
   "outputs": [
    {
     "ename": "ValueError",
     "evalue": "not enough values to unpack (expected 3, got 2)",
     "output_type": "error",
     "traceback": [
      "\u001b[1;31m---------------------------------------------------------------------------\u001b[0m",
      "\u001b[1;31mValueError\u001b[0m                                Traceback (most recent call last)",
      "\u001b[1;32m<ipython-input-11-22e6b0b3e0dd>\u001b[0m in \u001b[0;36m<module>\u001b[1;34m\u001b[0m\n\u001b[0;32m      1\u001b[0m \u001b[0mimage\u001b[0m\u001b[1;33m=\u001b[0m\u001b[0mcv2\u001b[0m\u001b[1;33m.\u001b[0m\u001b[0mimread\u001b[0m\u001b[1;33m(\u001b[0m\u001b[1;34m'C://Users//jihad//Downloads//cat2.jpg'\u001b[0m\u001b[1;33m,\u001b[0m\u001b[1;36m0\u001b[0m\u001b[1;33m)\u001b[0m\u001b[1;33m\u001b[0m\u001b[1;33m\u001b[0m\u001b[0m\n\u001b[0;32m      2\u001b[0m \u001b[1;33m\u001b[0m\u001b[0m\n\u001b[1;32m----> 3\u001b[1;33m \u001b[0mrows\u001b[0m\u001b[1;33m,\u001b[0m\u001b[0mcols\u001b[0m\u001b[1;33m,\u001b[0m\u001b[0mch\u001b[0m\u001b[1;33m=\u001b[0m \u001b[0mimage\u001b[0m\u001b[1;33m.\u001b[0m\u001b[0mshape\u001b[0m\u001b[1;33m\u001b[0m\u001b[1;33m\u001b[0m\u001b[0m\n\u001b[0m\u001b[0;32m      4\u001b[0m \u001b[0mcv2\u001b[0m\u001b[1;33m.\u001b[0m\u001b[0mimshow\u001b[0m\u001b[1;33m(\u001b[0m\u001b[1;34m'original'\u001b[0m\u001b[1;33m,\u001b[0m\u001b[0mimage\u001b[0m\u001b[1;33m)\u001b[0m\u001b[1;33m\u001b[0m\u001b[1;33m\u001b[0m\u001b[0m\n\u001b[0;32m      5\u001b[0m \u001b[0mcv2\u001b[0m\u001b[1;33m.\u001b[0m\u001b[0mwaitKey\u001b[0m\u001b[1;33m(\u001b[0m\u001b[1;36m0\u001b[0m\u001b[1;33m)\u001b[0m\u001b[1;33m\u001b[0m\u001b[1;33m\u001b[0m\u001b[0m\n",
      "\u001b[1;31mValueError\u001b[0m: not enough values to unpack (expected 3, got 2)"
     ]
    }
   ],
   "source": [
    "image=cv2.imread('C://Users//jihad//Downloads//cat2.jpg',0)\n",
    "\n",
    "rows,cols,ch= image.shape\n",
    "cv2.imshow('original',image)\n",
    "cv2.waitKey(0)\n",
    "\n",
    "points_A= np.float32([[320,15],[700,215],[85,610]])\n",
    "points_B= np.float32([[0,0],[420,0],[0,594]])\n",
    "\n",
    "M=cv2.getAffineTransform(points_A, points_B)\n",
    "\n",
    "warped= cv2.warpPerspective(image,M,(cols,rows))\n",
    "cv2.imshow('warped',warped)\n",
    "cv2.waitKey(0)\n",
    "cv2.destroyAllWindows()"
   ]
  },
  {
   "cell_type": "code",
   "execution_count": null,
   "metadata": {},
   "outputs": [],
   "source": []
  }
 ],
 "metadata": {
  "kernelspec": {
   "display_name": "Python 3",
   "language": "python",
   "name": "python3"
  },
  "language_info": {
   "codemirror_mode": {
    "name": "ipython",
    "version": 3
   },
   "file_extension": ".py",
   "mimetype": "text/x-python",
   "name": "python",
   "nbconvert_exporter": "python",
   "pygments_lexer": "ipython3",
   "version": "3.7.4"
  }
 },
 "nbformat": 4,
 "nbformat_minor": 2
}
